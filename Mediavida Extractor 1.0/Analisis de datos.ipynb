{
 "cells": [
  {
   "cell_type": "code",
   "execution_count": 1,
   "id": "76618fc1-9a27-4c38-b3d9-de44fc0233a6",
   "metadata": {},
   "outputs": [],
   "source": [
    "# Analisis de hilos comentados de los usuarios de mediavida V 1.0"
   ]
  },
  {
   "cell_type": "code",
   "execution_count": 1,
   "id": "cd98d556-5dbc-4a9b-90d7-f8500f9602c4",
   "metadata": {},
   "outputs": [],
   "source": [
    "#Librerias necesarias\n",
    "\n",
    "from Modulos.Librerias import *\n",
    "from Modulos.AnalisisComentarios import *"
   ]
  },
  {
   "cell_type": "code",
   "execution_count": 2,
   "id": "5841af30-a643-44a7-891a-d44ea0bf53cd",
   "metadata": {
    "editable": true,
    "slideshow": {
     "slide_type": ""
    },
    "tags": []
   },
   "outputs": [
    {
     "name": "stdout",
     "output_type": "stream",
     "text": [
      "Archivo cargado\n"
     ]
    }
   ],
   "source": [
    "#Carga y lectura del dataframe. Introducir en datos el nombre del archivo csv a cargar (hilo o usuario)\n",
    "\n",
    "datos = \"Calles.csv\"\n",
    "\n",
    "#Buscará el archivo en una u otra carpeta, para no tener que poner el path cada vez\n",
    "df = carga_datos(datos)\n"
   ]
  },
  {
   "cell_type": "code",
   "execution_count": null,
   "id": "1c96e845",
   "metadata": {},
   "outputs": [],
   "source": [
    "#Funcion que saca las palabras más frecuentes, segundo argumento número de palabras que queremos obtener\n",
    "\n",
    "num_palabras = 10\n",
    "\n",
    "top_palabras(df,num_palabras)\n",
    "\n"
   ]
  },
  {
   "cell_type": "code",
   "execution_count": null,
   "id": "61f027d2",
   "metadata": {},
   "outputs": [],
   "source": [
    "#Función para encontrar palabra clave en un comentario\n",
    "\n",
    "palabra = \"sevilla\"\n",
    "\n",
    "df_palabras = busca_palabras(df,palabra)\n",
    "df_palabras"
   ]
  },
  {
   "cell_type": "code",
   "execution_count": null,
   "id": "5bb69504",
   "metadata": {},
   "outputs": [],
   "source": [
    "#Función para sacar el top de Likes de un usuario o hilo\n",
    "\n",
    "top = 10\n",
    "\n",
    "top_manitas(df,top)"
   ]
  }
 ],
 "metadata": {
  "kernelspec": {
   "display_name": "base",
   "language": "python",
   "name": "python3"
  },
  "language_info": {
   "codemirror_mode": {
    "name": "ipython",
    "version": 3
   },
   "file_extension": ".py",
   "mimetype": "text/x-python",
   "name": "python",
   "nbconvert_exporter": "python",
   "pygments_lexer": "ipython3",
   "version": "3.12.4"
  }
 },
 "nbformat": 4,
 "nbformat_minor": 5
}
