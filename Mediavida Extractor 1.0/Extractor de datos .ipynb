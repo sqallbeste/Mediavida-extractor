{
 "cells": [
  {
   "cell_type": "code",
   "execution_count": 1,
   "id": "76618fc1-9a27-4c38-b3d9-de44fc0233a6",
   "metadata": {},
   "outputs": [],
   "source": [
    "# Analisis de hilos comentados de los usuarios de mediavida V 1.0"
   ]
  },
  {
   "cell_type": "code",
   "execution_count": 1,
   "id": "cd98d556-5dbc-4a9b-90d7-f8500f9602c4",
   "metadata": {},
   "outputs": [],
   "source": [
    "#Librerias necesarias\n",
    "\n",
    "from Modulos.Librerias import *\n",
    "from Modulos.ExtraccionDatos import *\n"
   ]
  },
  {
   "cell_type": "code",
   "execution_count": null,
   "id": "4f309886-bbdc-480f-ae5d-dffebabec9b8",
   "metadata": {
    "scrolled": true
   },
   "outputs": [],
   "source": [
    "#Usuario a analizar. IMPORTANTE: Asegurarse de escribir correctamente el nombre del usuario: mayusculas, símbolos, etc\n",
    "\n",
    "user = \"Calles\" \n",
    "\n",
    "df = analisis_usuario(user) "
   ]
  },
  {
   "cell_type": "code",
   "execution_count": null,
   "id": "ccbaabc5",
   "metadata": {},
   "outputs": [],
   "source": [
    "#Hilo a analizar. IMPORTANTE: debe ponerse la url de la primera página\n",
    "\n",
    "hilo = \"https://www.mediavida.com/foro/off-topic/francisco-ibanez-autor-mortadelo-filemon-acaba-fallecer-701415\"\n",
    "\n",
    "df = analisis_hilo(hilo)"
   ]
  },
  {
   "cell_type": "code",
   "execution_count": null,
   "id": "633faded",
   "metadata": {},
   "outputs": [],
   "source": []
  }
 ],
 "metadata": {
  "kernelspec": {
   "display_name": "base",
   "language": "python",
   "name": "python3"
  },
  "language_info": {
   "codemirror_mode": {
    "name": "ipython",
    "version": 3
   },
   "file_extension": ".py",
   "mimetype": "text/x-python",
   "name": "python",
   "nbconvert_exporter": "python",
   "pygments_lexer": "ipython3",
   "version": "3.12.4"
  }
 },
 "nbformat": 4,
 "nbformat_minor": 5
}
